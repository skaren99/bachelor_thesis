{
 "cells": [
  {
   "cell_type": "code",
   "execution_count": null,
   "metadata": {
    "collapsed": true
   },
   "outputs": [],
   "source": [
    "import os\n",
    "import re\n",
    "import json\n",
    "from collections import defaultdict\n",
    "import random"
   ]
  },
  {
   "cell_type": "code",
   "execution_count": null,
   "metadata": {
    "collapsed": true
   },
   "outputs": [],
   "source": [
    "base_path = \"/gpfs/space/home/karen99/results_dir/\"\n",
    "\n",
    "tag_regex = \"<[^>]+>\""
   ]
  },
  {
   "cell_type": "code",
   "execution_count": null,
   "metadata": {
    "collapsed": true
   },
   "outputs": [],
   "source": [
    "json_src = os.path.join(base_path, \"model1_src.json\")\n",
    "json_tgt = os.path.join(base_path, \"model1_tgt.json\")\n",
    "json_hyp = os.path.join(base_path, \"model1_hyp.json\")\n",
    "\n",
    "with open(json_src) as fin:\n",
    "    src_data = json.loads(fin.read())\n",
    "    \n",
    "with open(json_tgt) as fin:\n",
    "    tgt_data = json.loads(fin.read())\n",
    "\n",
    "with open(json_hyp) as fin:\n",
    "    hyp_data = json.loads(fin.read())"
   ]
  },
  {
   "cell_type": "code",
   "execution_count": null,
   "metadata": {
    "collapsed": true
   },
   "outputs": [],
   "source": [
    "#How many src sentences with taggs?\n",
    "stats_src = defaultdict()\n",
    "src_tagged = defaultdict(list)\n",
    "\n",
    "for lp in src_data.keys():\n",
    "    count = 0\n",
    "    for sent in src_data[lp]:\n",
    "        tagged = re.findall(r\"<[^>]+>\", sent)\n",
    "        if len(tagged) > 0:\n",
    "            src_tagged[lp].append(sent)\n",
    "            count += 1\n",
    "    stats_src[lp] = count\n",
    "        \n",
    "print(stats_src)"
   ]
  },
  {
   "cell_type": "code",
   "execution_count": null,
   "metadata": {
    "collapsed": true
   },
   "outputs": [],
   "source": [
    "#How many tgt sentences with taggs?\n",
    "stats_tgt = defaultdict()\n",
    "tgt_tagged = defaultdict(list)\n",
    "\n",
    "for lp in tgt_data.keys():\n",
    "    count = 0\n",
    "    for sent in tgt_data[lp]:\n",
    "        tagged = re.findall(r\"<[^>]+>\", sent)\n",
    "        if len(tagged) > 0:\n",
    "            tgt_tagged[lp].append(sent)\n",
    "            count += 1\n",
    "    stats_tgt[lp] = count\n",
    "        \n",
    "print(stats_tgt)"
   ]
  },
  {
   "cell_type": "code",
   "execution_count": null,
   "metadata": {
    "collapsed": true
   },
   "outputs": [],
   "source": [
    "#How many hyp sentences with taggs?\n",
    "stats_hyp = defaultdict()\n",
    "hyp_tagged = defaultdict(list)\n",
    "\n",
    "for lp in hyp_data.keys():\n",
    "    count = 0\n",
    "    for sent in hyp_data[lp]:\n",
    "        tagged = re.findall(r\"<[^>]+>\", sent)\n",
    "        if len(tagged) > 0:\n",
    "            hyp_tagged[lp].append(sent)\n",
    "            count += 1\n",
    "    stats_hyp[lp] = count\n",
    "        \n",
    "print(stats_hyp)"
   ]
  },
  {
   "cell_type": "code",
   "execution_count": null,
   "metadata": {
    "collapsed": true
   },
   "outputs": [],
   "source": [
    "#Which of the tgt sentences are redundant?\n",
    "broken = []\n",
    "new_tgt = tgt_tagged.copy()\n",
    "\n",
    "for lp in tgt_data.keys():\n",
    "    count = 0\n",
    "    for i, sent in enumerate(tgt_data[lp]):\n",
    "        tagged = re.findall(r\"<[^>]+>\", sent)\n",
    "        if len(tagged) > 0:\n",
    "            tagged1 = re.findall(r\"<[^>]+>\", src_data[lp][i])\n",
    "            tagged2 = re.findall(r\"<[^>]+>\", hyp_data[lp][i])\n",
    "            if len(tagged1) == 0 and len(tagged2) == 0:\n",
    "                broken.append(sent)\n",
    "                new_tgt[lp].remove(sent)\n",
    "\n",
    "print(broken)"
   ]
  },
  {
   "cell_type": "code",
   "execution_count": null,
   "metadata": {
    "collapsed": true
   },
   "outputs": [],
   "source": [
    "#Checking that new_tgt dict has the same amount of tagged sentences as src and hyp\n",
    "\n",
    "stats = defaultdict()\n",
    "\n",
    "for lp in new_tgt.keys():\n",
    "    count = 0\n",
    "    for sent in new_tgt[lp]:\n",
    "        count += 1\n",
    "    stats[lp] = count\n",
    "        \n",
    "print(stats)"
   ]
  },
  {
   "cell_type": "code",
   "execution_count": null,
   "metadata": {
    "collapsed": true
   },
   "outputs": [],
   "source": [
    "#Choosing random 100 sentences for each language pair\n",
    "\n",
    "j = 0\n",
    "for lp in src_data.keys():\n",
    "    print(lp)\n",
    "    if len(src_tagged[lp]) == 0:\n",
    "        continue\n",
    "    else:\n",
    "        random_items = random.sample(range(len(src_tagged[lp])), 100)\n",
    "        for i in random_items:\n",
    "            print(j, src_tagged[lp][i])\n",
    "            print(j, new_tgt[lp][i])\n",
    "            print(j, hyp_tagged[lp][i])\n",
    "            j += 1"
   ]
  },
  {
   "cell_type": "code",
   "execution_count": null,
   "metadata": {
    "collapsed": true
   },
   "outputs": [],
   "source": [
    "#Checking the types of tags\n",
    "\n",
    "tags = []\n",
    "\n",
    "for lp in hyp_data.keys():\n",
    "    if len(hyp_tagged[lp]) == 0:\n",
    "        continue\n",
    "    else:\n",
    "        for sent in hyp_data[lp]:\n",
    "            all_tags = re.findall(tag_regex, sent)\n",
    "            for tag in all_tags:\n",
    "                tag_type = tag.split(\" \")[0][1:]\n",
    "                tags.append(tag_type)        \n",
    "print(len(tags))\n",
    "type_set = set(tags)\n",
    "print(type_set)"
   ]
  },
  {
   "cell_type": "code",
   "execution_count": null,
   "metadata": {
    "collapsed": true
   },
   "outputs": [],
   "source": [
    "#Counting the frequency of each tag\n",
    "\n",
    "bpt = tags.count(\"bpt\")\n",
    "print(bpt)\n",
    "\n",
    "ept = tags.count(\"ept\")\n",
    "print(ept)\n",
    "\n",
    "ph = tags.count(\"ph\")\n",
    "print(ph)\n",
    "\n",
    "bpt = tags.count(\"Bpt\")\n",
    "print(bpt)\n",
    "\n",
    "ept = tags.count(\"Ept\")\n",
    "print(ept)\n",
    "\n",
    "ph = tags.count(\"Ph\")\n",
    "print(ph)"
   ]
  }
 ],
 "metadata": {
  "kernelspec": {
   "display_name": "Python 3",
   "language": "python",
   "name": "python3"
  },
  "language_info": {
   "codemirror_mode": {
    "name": "ipython",
    "version": 3
   },
   "file_extension": ".py",
   "mimetype": "text/x-python",
   "name": "python",
   "nbconvert_exporter": "python",
   "pygments_lexer": "ipython3",
   "version": "3.6.5"
  }
 },
 "nbformat": 4,
 "nbformat_minor": 2
}
